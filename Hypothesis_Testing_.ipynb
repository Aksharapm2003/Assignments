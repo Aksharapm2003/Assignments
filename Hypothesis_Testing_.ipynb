{
  "nbformat": 4,
  "nbformat_minor": 0,
  "metadata": {
    "colab": {
      "provenance": []
    },
    "kernelspec": {
      "name": "python3",
      "display_name": "Python 3"
    },
    "language_info": {
      "name": "python"
    }
  },
  "cells": [
    {
      "cell_type": "markdown",
      "source": [
        "#HYPOTHESIS TESTING"
      ],
      "metadata": {
        "id": "7rLUTuUi2Z-l"
      }
    },
    {
      "cell_type": "markdown",
      "source": [
        "##1.State the Hypotheses Statement:"
      ],
      "metadata": {
        "id": "JqkXi31K26n6"
      }
    },
    {
      "cell_type": "markdown",
      "source": [
        "Hypothesis testing is a statistical method that is used in making statistical decisions using experimental data.Hypothesis testing is basically an assumption that we make about the population parameter.\n",
        "\n",
        "--> Null Hypothesis(H0):Argument made so far,or hypothesis saying that there is no change or difference.\n",
        "\n",
        "--> Alternative Hypothesis(H1):New argument,that is a hypothesis that you want to prove with solid ground obtained from sample."
      ],
      "metadata": {
        "id": "xxZFM7Ei3Ad5"
      }
    },
    {
      "cell_type": "markdown",
      "source": [
        "##2.Calculate the Test Statistic:"
      ],
      "metadata": {
        "id": "QoH5p0gO3DQ3"
      }
    },
    {
      "cell_type": "code",
      "source": [
        "import numpy as np\n",
        "from scipy.stats import t"
      ],
      "metadata": {
        "id": "Lq2tcMLW2d9I"
      },
      "execution_count": 3,
      "outputs": []
    },
    {
      "cell_type": "code",
      "source": [
        "x_bar = 3050\n",
        "n = 25\n",
        "mu = 1000 +5 * 600\n",
        "sigma = 5*25\n",
        "\n",
        "t_statistic = (x_bar -mu)/(sigma / np.sqrt(n))\n",
        "t_statistic"
      ],
      "metadata": {
        "colab": {
          "base_uri": "https://localhost:8080/"
        },
        "id": "QdE7_RRgBUsM",
        "outputId": "7db835de-19d2-4a68-fae3-15d9fef95dd2"
      },
      "execution_count": 4,
      "outputs": [
        {
          "output_type": "execute_result",
          "data": {
            "text/plain": [
              "-38.0"
            ]
          },
          "metadata": {},
          "execution_count": 4
        }
      ]
    },
    {
      "cell_type": "markdown",
      "source": [
        "where:\n",
        "\n",
        ".x_bar = sample mean weekly cost(Rs.3,050)\n",
        "\n",
        ".mu = theoretical mean weekly cost according to the cost model(w = 1000+5x for x = 600 units)\n",
        "\n",
        ".sigma = 5*25 units\n",
        "\n",
        ".n = sample size(25 restaurants)"
      ],
      "metadata": {
        "id": "FOcKowPNCE5m"
      }
    },
    {
      "cell_type": "markdown",
      "source": [
        "##3.Determine the Critical Value"
      ],
      "metadata": {
        "id": "fK-6ej0BCKK-"
      }
    },
    {
      "cell_type": "markdown",
      "source": [
        "Using the alpha level of 5% (α = 0.05),determine the critical value from the standarad normal(Z) distribution table."
      ],
      "metadata": {
        "id": "RUd0IsXaCOpF"
      }
    },
    {
      "cell_type": "code",
      "source": [
        "alpha = 0.05    #significance level\n",
        "df = n-1        # Degrees of freedom (df)=sample size - 1\n",
        "critical_value = t.ppf(1-alpha,df)\n",
        "critical_value"
      ],
      "metadata": {
        "colab": {
          "base_uri": "https://localhost:8080/"
        },
        "id": "sCWo5U89CWQF",
        "outputId": "315a4d93-ca1e-4428-f671-c1117d8d2081"
      },
      "execution_count": 8,
      "outputs": [
        {
          "output_type": "execute_result",
          "data": {
            "text/plain": [
              "1.7108820799094275"
            ]
          },
          "metadata": {},
          "execution_count": 8
        }
      ]
    },
    {
      "cell_type": "markdown",
      "source": [
        "##4. Make a Decision:"
      ],
      "metadata": {
        "id": "L6Ikuz-ECt3m"
      }
    },
    {
      "cell_type": "code",
      "source": [
        "if t_statistic > critical_value:\n",
        "  print(\"Reject the null hypothesis\")\n",
        "else:\n",
        "  print(\"Accept the null hypothesis\")\n"
      ],
      "metadata": {
        "colab": {
          "base_uri": "https://localhost:8080/"
        },
        "id": "Lajp1-Y3Cgpz",
        "outputId": "e39c8d06-20ed-4901-e7cc-e9a0acaa2cd4"
      },
      "execution_count": 9,
      "outputs": [
        {
          "output_type": "stream",
          "name": "stdout",
          "text": [
            "Accept the null hypothesis\n"
          ]
        }
      ]
    },
    {
      "cell_type": "markdown",
      "source": [
        "##5.Conclusion"
      ],
      "metadata": {
        "id": "6TRnAe5bDXw1"
      }
    },
    {
      "cell_type": "markdown",
      "source": [
        "Based on the decision in step4,conclude whether there is strong evidence to support the restaurant owners claim that the weekly operating costs are higher than the model suggests.\n",
        "\n",
        "There is no enough evidence to support the claim that the weekly operating costs are higher than the model suggests."
      ],
      "metadata": {
        "id": "_WnixOnHDchJ"
      }
    },
    {
      "cell_type": "code",
      "source": [],
      "metadata": {
        "id": "-_zwOD5bCzyH"
      },
      "execution_count": null,
      "outputs": []
    }
  ]
}